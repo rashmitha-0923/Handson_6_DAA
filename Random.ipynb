{
  "nbformat": 4,
  "nbformat_minor": 0,
  "metadata": {
    "colab": {
      "provenance": []
    },
    "kernelspec": {
      "name": "python3",
      "display_name": "Python 3"
    },
    "language_info": {
      "name": "python"
    }
  },
  "cells": [
    {
      "cell_type": "code",
      "execution_count": 2,
      "metadata": {
        "colab": {
          "base_uri": "https://localhost:8080/"
        },
        "id": "Qv-T6m80bzNC",
        "outputId": "98cd601e-03ec-437d-e50c-62dff1e3cb50"
      },
      "outputs": [
        {
          "output_type": "stream",
          "name": "stdout",
          "text": [
            "The array before sorting: [59, 15, 52, 34, 91]\n",
            "Sorted array with random pivot: [15, 34, 52, 59, 91]\n"
          ]
        }
      ],
      "source": [
        "import random\n",
        "\n",
        "def randomized_quicksort(array, start_index, end_index):\n",
        "    if start_index < end_index:\n",
        "\n",
        "        pivot_index = random_partition(array, start_index, end_index)\n",
        "        randomized_quicksort(array, start_index, pivot_index - 1)\n",
        "        randomized_quicksort(array, pivot_index + 1, end_index)\n",
        "\n",
        "def random_partition(array, start_index, end_index):\n",
        "    pivot_index = random.randint(start_index, end_index)\n",
        "    array[pivot_index], array[end_index] = array[end_index], array[pivot_index]\n",
        "    pivot_value = array[end_index]\n",
        "    i = start_index - 1\n",
        "\n",
        "    for j in range(start_index, end_index):\n",
        "        if array[j] <= pivot_value:\n",
        "            i += 1\n",
        "            array[i], array[j] = array[j], array[i]\n",
        "\n",
        "    array[i + 1], array[end_index] = array[end_index], array[i + 1]\n",
        "    return i + 1\n",
        "unsorted_array = [59, 15, 52, 34, 91]\n",
        "print(\"The array before sorting:\", unsorted_array)\n",
        "randomized_quicksort(unsorted_array, 0, len(unsorted_array) - 1)\n",
        "print(\"Sorted array with random pivot:\", unsorted_array)\n"
      ]
    }
  ]
}