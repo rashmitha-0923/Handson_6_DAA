{
  "nbformat": 4,
  "nbformat_minor": 0,
  "metadata": {
    "colab": {
      "provenance": []
    },
    "kernelspec": {
      "name": "python3",
      "display_name": "Python 3"
    },
    "language_info": {
      "name": "python"
    }
  },
  "cells": [
    {
      "cell_type": "code",
      "execution_count": 1,
      "metadata": {
        "colab": {
          "base_uri": "https://localhost:8080/"
        },
        "id": "4s3Fs9_ld9-6",
        "outputId": "f66e42b7-e3fb-411c-f914-faf6c544307f"
      },
      "outputs": [
        {
          "output_type": "stream",
          "name": "stdout",
          "text": [
            "The array before sorting: [22, 7, 17, 32, 49]\n",
            "Sorted array with fixed pivot: [7, 17, 22, 32, 49]\n"
          ]
        }
      ],
      "source": [
        "def fixed_pivot_quicksort(array, start_index, end_index):\n",
        "    if start_index < end_index:\n",
        "        pivot_index = nonrandom_partition(array, start_index, end_index)\n",
        "        fixed_pivot_quicksort(array, start_index, pivot_index - 1)\n",
        "        fixed_pivot_quicksort(array, pivot_index + 1, end_index)\n",
        "\n",
        "def nonrandom_partition(array, start_index, end_index):\n",
        "    pivot_value = array[end_index]\n",
        "    i = start_index - 1\n",
        "\n",
        "    for j in range(start_index, end_index):\n",
        "        if array[j] <= pivot_value:\n",
        "            i += 1\n",
        "            array[i], array[j] = array[j], array[i]\n",
        "    array[i + 1], array[end_index] = array[end_index], array[i + 1]\n",
        "    return i + 1\n",
        "\n",
        "unsorted_array = [22, 7, 17, 32, 49]\n",
        "print(\"The array before sorting:\", unsorted_array)\n",
        "fixed_pivot_quicksort(unsorted_array, 0, len(unsorted_array) - 1)\n",
        "print(\"Sorted array with fixed pivot:\", unsorted_array)\n"
      ]
    }
  ]
}